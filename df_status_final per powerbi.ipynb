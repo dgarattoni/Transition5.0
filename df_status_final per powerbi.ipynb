{
 "cells": [
  {
   "cell_type": "code",
   "execution_count": 1,
   "metadata": {},
   "outputs": [],
   "source": [
    "import pandas as pd\n",
    "\n",
    "# Percorso del file CSV\n",
    "file_path21 = r'C:\\Users\\dgarattoni\\OneDrive - scmgroup.com\\my ONEDRIVE\\Business Analyst in Spare Parts\\06.CONTROL ROOM\\8. REPORTISTICA\\status data\\df_Status_op_f.csv'\n",
    "\n",
    "# Carica il file CSV in un DataFrame\n",
    "df_status = pd.read_csv(file_path21)\n",
    "\n",
    "# Seleziona solo le colonne 'event_ID' ed 'extradata'\n",
    "df_selected = df_status[['event_ID', 'extradata']]\n",
    "\n"
   ]
  },
  {
   "cell_type": "code",
   "execution_count": 2,
   "metadata": {},
   "outputs": [
    {
     "name": "stdout",
     "output_type": "stream",
     "text": [
      "         event_ID  \\\n",
      "17             17   \n",
      "18             18   \n",
      "19             19   \n",
      "20             20   \n",
      "21             21   \n",
      "...           ...   \n",
      "1402056   1402056   \n",
      "1402057   1402057   \n",
      "1402058   1402058   \n",
      "1402059   1402059   \n",
      "1402060   1402060   \n",
      "\n",
      "                                                                                                                                                                                                                                                                                                              extradata  \n",
      "17                                                                 {\"Machine/OperatingGroups/05\": [{\"properties_type\": \"TE\", \"data_value\": \"0\", \"from\": \"2024-01-22T09:59:59\", \"to\": \"2024-01-22T09:59:59\"}, {\"properties_type\": \"TE\", \"data_value\": \"0\", \"from\": \"2024-01-22T09:59:59\", \"to\": \"2024-01-22T09:59:59\"}]}  \n",
      "18                                                                 {\"Machine/OperatingGroups/05\": [{\"properties_type\": \"TE\", \"data_value\": \"0\", \"from\": \"2024-01-22T09:59:59\", \"to\": \"2024-01-22T09:59:59\"}, {\"properties_type\": \"TE\", \"data_value\": \"0\", \"from\": \"2024-01-22T09:59:59\", \"to\": \"2024-01-22T09:59:59\"}]}  \n",
      "19                                                                 {\"Machine/OperatingGroups/05\": [{\"properties_type\": \"TE\", \"data_value\": \"0\", \"from\": \"2024-01-22T09:59:59\", \"to\": \"2024-01-22T09:59:59\"}, {\"properties_type\": \"TE\", \"data_value\": \"0\", \"from\": \"2024-01-22T09:59:59\", \"to\": \"2024-01-22T09:59:59\"}]}  \n",
      "20                                                                 {\"Machine/OperatingGroups/05\": [{\"properties_type\": \"TE\", \"data_value\": \"0\", \"from\": \"2024-01-22T09:59:59\", \"to\": \"2024-01-22T09:59:59\"}, {\"properties_type\": \"TE\", \"data_value\": \"0\", \"from\": \"2024-01-22T09:59:59\", \"to\": \"2024-01-22T09:59:59\"}]}  \n",
      "21                                                                 {\"Machine/OperatingGroups/05\": [{\"properties_type\": \"TE\", \"data_value\": \"0\", \"from\": \"2024-01-22T09:59:59\", \"to\": \"2024-01-22T10:00:01\"}, {\"properties_type\": \"TE\", \"data_value\": \"0\", \"from\": \"2024-01-22T09:59:59\", \"to\": \"2024-01-22T09:59:59\"}]}  \n",
      "...                                                                                                                                                                                                                                                                                                                 ...  \n",
      "1402056  {\"Machine/OperatingGroups/06\": [{\"properties_type\": \"VASCA COLLA\", \"data_value\": \"READY\", \"from\": \"2024-07-19T13:44:32\", \"to\": \"2024-07-19T13:45:54\"}], \"Machine/OperatingGroups/08\": [{\"properties_type\": \"VASCA COLLA\", \"data_value\": \"READY\", \"from\": \"2024-07-19T13:44:32\", \"to\": \"2024-07-19T13:45:54\"}]}  \n",
      "1402057  {\"Machine/OperatingGroups/06\": [{\"properties_type\": \"VASCA COLLA\", \"data_value\": \"READY\", \"from\": \"2024-07-19T13:45:54\", \"to\": \"2024-07-19T13:48:31\"}], \"Machine/OperatingGroups/08\": [{\"properties_type\": \"VASCA COLLA\", \"data_value\": \"READY\", \"from\": \"2024-07-19T13:45:54\", \"to\": \"2024-07-19T13:48:31\"}]}  \n",
      "1402058  {\"Machine/OperatingGroups/06\": [{\"properties_type\": \"VASCA COLLA\", \"data_value\": \"READY\", \"from\": \"2024-07-19T13:48:31\", \"to\": \"2024-07-19T13:49:12\"}], \"Machine/OperatingGroups/08\": [{\"properties_type\": \"VASCA COLLA\", \"data_value\": \"READY\", \"from\": \"2024-07-19T13:48:31\", \"to\": \"2024-07-19T13:49:12\"}]}  \n",
      "1402059  {\"Machine/OperatingGroups/06\": [{\"properties_type\": \"VASCA COLLA\", \"data_value\": \"READY\", \"from\": \"2024-07-19T13:49:12\", \"to\": \"2024-07-19T13:49:14\"}], \"Machine/OperatingGroups/08\": [{\"properties_type\": \"VASCA COLLA\", \"data_value\": \"READY\", \"from\": \"2024-07-19T13:49:12\", \"to\": \"2024-07-19T13:49:14\"}]}  \n",
      "1402060  {\"Machine/OperatingGroups/06\": [{\"properties_type\": \"VASCA COLLA\", \"data_value\": \"READY\", \"from\": \"2024-07-19T13:49:14\", \"to\": \"2024-07-19T13:51:24\"}], \"Machine/OperatingGroups/08\": [{\"properties_type\": \"VASCA COLLA\", \"data_value\": \"READY\", \"from\": \"2024-07-19T13:49:14\", \"to\": \"2024-07-19T13:51:24\"}]}  \n",
      "\n",
      "[1359057 rows x 2 columns]\n"
     ]
    }
   ],
   "source": [
    "import pandas as pd\n",
    "\n",
    "# Supponiamo che df_selected sia il tuo DataFrame\n",
    "# df_selected = pd.DataFrame({...})\n",
    "\n",
    "# Filtra il DataFrame per ottenere solo le righe dove 'extradata' non è {}\n",
    "filtered_df = df_selected[df_selected['extradata'].apply(lambda x: x != \"{}\")]\n",
    "\n",
    "# Stampa il DataFrame filtrato\n",
    "# Imposta le opzioni per visualizzare più colonne e righe\n",
    "pd.set_option('display.max_columns', None)  # Mostra tutte le colonne\n",
    "pd.set_option('display.max_colwidth', None)  # Mostra l'intero contenuto delle colonne\n",
    "\n",
    "\n",
    "print(filtered_df)"
   ]
  },
  {
   "cell_type": "code",
   "execution_count": 3,
   "metadata": {},
   "outputs": [
    {
     "name": "stdout",
     "output_type": "stream",
     "text": [
      "         event_ID                         key properties_type data_value  \\\n",
      "0              17  Machine/OperatingGroups/05              TE          0   \n",
      "1              17  Machine/OperatingGroups/05              TE          0   \n",
      "2              18  Machine/OperatingGroups/05              TE          0   \n",
      "3              18  Machine/OperatingGroups/05              TE          0   \n",
      "4              19  Machine/OperatingGroups/05              TE          0   \n",
      "...           ...                         ...             ...        ...   \n",
      "3506220   1402058  Machine/OperatingGroups/08     VASCA COLLA      READY   \n",
      "3506221   1402059  Machine/OperatingGroups/06     VASCA COLLA      READY   \n",
      "3506222   1402059  Machine/OperatingGroups/08     VASCA COLLA      READY   \n",
      "3506223   1402060  Machine/OperatingGroups/06     VASCA COLLA      READY   \n",
      "3506224   1402060  Machine/OperatingGroups/08     VASCA COLLA      READY   \n",
      "\n",
      "                        from                   to  \n",
      "0        2024-01-22T09:59:59  2024-01-22T09:59:59  \n",
      "1        2024-01-22T09:59:59  2024-01-22T09:59:59  \n",
      "2        2024-01-22T09:59:59  2024-01-22T09:59:59  \n",
      "3        2024-01-22T09:59:59  2024-01-22T09:59:59  \n",
      "4        2024-01-22T09:59:59  2024-01-22T09:59:59  \n",
      "...                      ...                  ...  \n",
      "3506220  2024-07-19T13:48:31  2024-07-19T13:49:12  \n",
      "3506221  2024-07-19T13:49:12  2024-07-19T13:49:14  \n",
      "3506222  2024-07-19T13:49:12  2024-07-19T13:49:14  \n",
      "3506223  2024-07-19T13:49:14  2024-07-19T13:51:24  \n",
      "3506224  2024-07-19T13:49:14  2024-07-19T13:51:24  \n",
      "\n",
      "[3506225 rows x 6 columns]\n"
     ]
    }
   ],
   "source": [
    "import pandas as pd\n",
    "import json\n",
    "\n",
    "# Funzione per normalizzare il JSON con ID evento\n",
    "def normalize_json_with_id(json_str, event_id):\n",
    "    # Converti la stringa JSON in un dizionario Python\n",
    "    data = json.loads(json_str)\n",
    "    \n",
    "    # Crea una lista di dizionari per ogni elemento nel JSON\n",
    "    rows = []\n",
    "    for key, items in data.items():\n",
    "        for item in items:\n",
    "            row = {'event_ID': event_id, 'key': key}\n",
    "            row.update(item)\n",
    "            rows.append(row)\n",
    "    \n",
    "    return rows\n",
    "\n",
    "\n",
    "\n",
    "# Normalizzare i dati con l'ID evento\n",
    "normalized_data = []\n",
    "for index, row in filtered_df.iterrows():\n",
    "    normalized_data.extend(normalize_json_with_id(row['extradata'], row['event_ID']))\n",
    "\n",
    "# Converti i dati normalizzati in un DataFrame\n",
    "df_normalized = pd.DataFrame(normalized_data)\n",
    "\n",
    "# Mostra il DataFrame normalizzato\n",
    "print(df_normalized)"
   ]
  }
 ],
 "metadata": {
  "kernelspec": {
   "display_name": "Python 3",
   "language": "python",
   "name": "python3"
  },
  "language_info": {
   "codemirror_mode": {
    "name": "ipython",
    "version": 3
   },
   "file_extension": ".py",
   "mimetype": "text/x-python",
   "name": "python",
   "nbconvert_exporter": "python",
   "pygments_lexer": "ipython3",
   "version": "3.12.2"
  }
 },
 "nbformat": 4,
 "nbformat_minor": 2
}
